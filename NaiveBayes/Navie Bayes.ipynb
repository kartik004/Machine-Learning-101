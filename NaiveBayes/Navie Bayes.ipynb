{
 "cells": [
  {
   "cell_type": "code",
   "execution_count": 1,
   "metadata": {},
   "outputs": [
    {
     "name": "stdout",
     "output_type": "stream",
     "text": [
      "reading and processing emails from file.\n",
      "Training model.\n",
      "FINISHED classifying. accuracy score : \n",
      "1.0\n"
     ]
    }
   ],
   "source": [
    "import os\n",
    "import numpy as np\n",
    "from collections import Counter\n",
    "from sklearn.naive_bayes import GaussianNB\n",
    "from sklearn.metrics import accuracy_score\n",
    "\n",
    "\n",
    "def make_Dictionary(root_dir):\n",
    "    all_words = []\n",
    "    emails = [os.path.join(root_dir,f) for f in os.listdir(root_dir)]\n",
    "    for mail in emails:\n",
    "        with open(mail) as m:\n",
    "            for line in m:\n",
    "                words = line.split()\n",
    "                all_words += words\n",
    "    dictionary = Counter(all_words)\n",
    "    list_to_remove = list(dictionary)\n",
    "    #list_to_remove = dictionary.keys()\n",
    "\n",
    "    for item in list_to_remove:\n",
    "        if item.isalpha() == False:\n",
    "            del dictionary[item]\n",
    "        elif len(item) == 1:\n",
    "            del dictionary[item]\n",
    "            \n",
    "    dictionary = dictionary.most_common(3000)\n",
    "\n",
    "    return dictionary\n",
    "\n",
    "\n",
    "\n",
    "def extract_features(mail_dir):\n",
    "    files = [os.path.join(mail_dir,fi) for fi in os.listdir(mail_dir)]\n",
    "    features_matrix = np.zeros((len(files),3000))\n",
    "    train_labels = np.zeros(len(files))\n",
    "    count = 0;\n",
    "    docID = 0;\n",
    "    for fil in files:\n",
    "      with open(fil) as fi:\n",
    "        for i,line in enumerate(fi):\n",
    "          if i == 2:\n",
    "            words = line.split()\n",
    "            for word in words:\n",
    "              wordID = 0\n",
    "              for i,d in enumerate(dictionary):\n",
    "                if d[0] == word:\n",
    "                  wordID = i\n",
    "                  features_matrix[docID,wordID] = words.count(word)\n",
    "        train_labels[docID] = 0;\n",
    "        filepathTokens = fil.split('/')\n",
    "        lastToken = filepathTokens[len(filepathTokens) - 1]\n",
    "        if lastToken.startswith(\"spmsg\"):\n",
    "            train_labels[docID] = 1;\n",
    "            count = count + 1\n",
    "        docID = docID + 1\n",
    "    return features_matrix, train_labels\n",
    "\n",
    "\n",
    "\n",
    "TRAIN_DIR = \"C:/Users/karti/Anaconda_Workspace/Machine Learning 101/NaiveBayes/train-mails\"\n",
    "TEST_DIR = \"C:/Users/karti/Anaconda_Workspace/Machine Learning 101/NaiveBayes/test-mails\"\n",
    "\n",
    "dictionary = make_Dictionary(TRAIN_DIR)\n",
    "\n",
    "print (\"reading and processing emails from file.\")\n",
    "features_matrix, labels = extract_features(TRAIN_DIR)\n",
    "test_feature_matrix, test_labels = extract_features(TEST_DIR)\n",
    "\n",
    "\n",
    "model = GaussianNB()\n",
    "\n",
    "print (\"Training model.\")\n",
    "#train model\n",
    "model.fit(features_matrix, labels)\n",
    "\n",
    "predicted_labels = model.predict(test_feature_matrix)\n",
    "\n",
    "print (\"FINISHED classifying. accuracy score : \")\n",
    "print (accuracy_score(test_labels, predicted_labels))"
   ]
  },
  {
   "cell_type": "code",
   "execution_count": null,
   "metadata": {
    "collapsed": true
   },
   "outputs": [],
   "source": []
  }
 ],
 "metadata": {
  "kernelspec": {
   "display_name": "Python 3",
   "language": "python",
   "name": "python3"
  },
  "language_info": {
   "codemirror_mode": {
    "name": "ipython",
    "version": 3
   },
   "file_extension": ".py",
   "mimetype": "text/x-python",
   "name": "python",
   "nbconvert_exporter": "python",
   "pygments_lexer": "ipython3",
   "version": "3.6.3"
  }
 },
 "nbformat": 4,
 "nbformat_minor": 2
}
