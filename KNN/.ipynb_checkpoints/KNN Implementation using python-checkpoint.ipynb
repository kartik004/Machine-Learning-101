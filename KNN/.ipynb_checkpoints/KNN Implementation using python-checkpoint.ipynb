{
 "cells": [
  {
   "cell_type": "code",
   "execution_count": 1,
   "metadata": {},
   "outputs": [
    {
     "name": "stderr",
     "output_type": "stream",
     "text": [
      "C:\\Users\\karti\\AppData\\Local\\Continuum\\anaconda3\\lib\\site-packages\\sklearn\\cross_validation.py:41: DeprecationWarning: This module was deprecated in version 0.18 in favor of the model_selection module into which all the refactored classes and functions are moved. Also note that the interface of the new CV iterators are different from that of this module. This module will be removed in 0.20.\n",
      "  \"This module will be removed in 0.20.\", DeprecationWarning)\n"
     ]
    }
   ],
   "source": [
    "import numpy as np\n",
    "from sklearn.preprocessing import Imputer\n",
    "from sklearn.cross_validation import train_test_split\n",
    "from sklearn.neighbors import KNeighborsClassifier\n",
    "from sklearn.metrics import accuracy_score"
   ]
  },
  {
   "cell_type": "code",
   "execution_count": 2,
   "metadata": {},
   "outputs": [],
   "source": [
    "cancer_data = np.genfromtxt(\n",
    " fname ='C:/Users/karti/Anaconda_Workspace/Machine Learning 101/KNN/breast-cancer-wisconsin.data.txt', delimiter= ',', dtype= float)"
   ]
  },
  {
   "cell_type": "code",
   "execution_count": 3,
   "metadata": {},
   "outputs": [
    {
     "name": "stdout",
     "output_type": "stream",
     "text": [
      "Lenagth of Data : 699\n"
     ]
    }
   ],
   "source": [
    "print(\"Lenagth of Data :\",len(cancer_data))"
   ]
  },
  {
   "cell_type": "code",
   "execution_count": 4,
   "metadata": {},
   "outputs": [
    {
     "name": "stdout",
     "output_type": "stream",
     "text": [
      "Dataset:  [[  1.00002500e+06   5.00000000e+00   1.00000000e+00 ...,   1.00000000e+00\n",
      "    1.00000000e+00   2.00000000e+00]\n",
      " [  1.00294500e+06   5.00000000e+00   4.00000000e+00 ...,   2.00000000e+00\n",
      "    1.00000000e+00   2.00000000e+00]\n",
      " [  1.01542500e+06   3.00000000e+00   1.00000000e+00 ...,   1.00000000e+00\n",
      "    1.00000000e+00   2.00000000e+00]\n",
      " ..., \n",
      " [  8.88820000e+05   5.00000000e+00   1.00000000e+01 ...,   1.00000000e+01\n",
      "    2.00000000e+00   4.00000000e+00]\n",
      " [  8.97471000e+05   4.00000000e+00   8.00000000e+00 ...,   6.00000000e+00\n",
      "    1.00000000e+00   4.00000000e+00]\n",
      " [  8.97471000e+05   4.00000000e+00   8.00000000e+00 ...,   4.00000000e+00\n",
      "    1.00000000e+00   4.00000000e+00]]\n"
     ]
    }
   ],
   "source": [
    "print(\"Dataset: \", str(cancer_data))"
   ]
  },
  {
   "cell_type": "code",
   "execution_count": 5,
   "metadata": {},
   "outputs": [
    {
     "name": "stdout",
     "output_type": "stream",
     "text": [
      "Data Shape:  (699, 11)\n"
     ]
    }
   ],
   "source": [
    "print(\"Data Shape: \",cancer_data.shape)"
   ]
  },
  {
   "cell_type": "markdown",
   "metadata": {},
   "source": [
    "The cancer dataset’s first column consists of patient’s id. To make this prediction process unbiased, we should remove this patient id."
   ]
  },
  {
   "cell_type": "code",
   "execution_count": 6,
   "metadata": {
    "collapsed": true
   },
   "outputs": [],
   "source": [
    "cancer_data = np.delete(arr = cancer_data, obj= 0, axis = 1)"
   ]
  },
  {
   "cell_type": "markdown",
   "metadata": {},
   "source": [
    "## Seperating Features and Labels\n",
    "\n",
    "Dividing the dataset into feature & label dataset. i.e., feature data is predictor variables they will help us to predict labels(criterion variable). Here, first 9 columns include continuous variables that will help us to predict whether a patient is having the benign tumor or malignant tumor."
   ]
  },
  {
   "cell_type": "code",
   "execution_count": 7,
   "metadata": {
    "collapsed": true
   },
   "outputs": [],
   "source": [
    "X = cancer_data[:,range(0,9)]\n",
    "Y = cancer_data[:,9]"
   ]
  },
  {
   "cell_type": "markdown",
   "metadata": {},
   "source": [
    "## Data Imputation\n",
    "\n",
    "Imputation is a process of replacing missing values with substituted values. In our dataset, some columns have missing values. We can replace missing values with mean, median, mode or any particular value."
   ]
  },
  {
   "cell_type": "code",
   "execution_count": 8,
   "metadata": {
    "collapsed": true
   },
   "outputs": [],
   "source": [
    "imp = Imputer(missing_values=\"NaN\",strategy='median',axis = 0)\n",
    "X = imp.fit_transform(X)"
   ]
  },
  {
   "cell_type": "markdown",
   "metadata": {},
   "source": [
    "## Spliting the data in training and testing"
   ]
  },
  {
   "cell_type": "code",
   "execution_count": 9,
   "metadata": {
    "collapsed": true
   },
   "outputs": [],
   "source": [
    "X_train, X_test, y_train, y_test = train_test_split(X,Y,test_size = 0.3, random_state = 123)"
   ]
  },
  {
   "cell_type": "markdown",
   "metadata": {},
   "source": [
    "y_train & y_test are 2d numpy arrays with 1 column. To convert it into a 1d array, we are using ravel()."
   ]
  },
  {
   "cell_type": "code",
   "execution_count": 10,
   "metadata": {
    "collapsed": true
   },
   "outputs": [],
   "source": [
    "y_train = y_train.ravel()\n",
    "y_test = y_test.ravel()"
   ]
  },
  {
   "cell_type": "markdown",
   "metadata": {},
   "source": [
    "## KNN Implementation\n",
    "\n",
    "Fitting KNN algorithm on training data, predicting labels for dataset and printing the accuracy of the model for different values of K(ranging from 1 to 25)"
   ]
  },
  {
   "cell_type": "code",
   "execution_count": 11,
   "metadata": {},
   "outputs": [
    {
     "name": "stdout",
     "output_type": "stream",
     "text": [
      "Accuracy is  96.6666666667 % for K-Value: 1\n",
      "Accuracy is  94.2857142857 % for K-Value: 2\n",
      "Accuracy is  96.1904761905 % for K-Value: 3\n",
      "Accuracy is  95.7142857143 % for K-Value: 4\n",
      "Accuracy is  97.1428571429 % for K-Value: 5\n",
      "Accuracy is  96.1904761905 % for K-Value: 6\n",
      "Accuracy is  97.1428571429 % for K-Value: 7\n",
      "Accuracy is  95.2380952381 % for K-Value: 8\n",
      "Accuracy is  95.2380952381 % for K-Value: 9\n",
      "Accuracy is  95.2380952381 % for K-Value: 10\n",
      "Accuracy is  95.2380952381 % for K-Value: 11\n",
      "Accuracy is  95.2380952381 % for K-Value: 12\n",
      "Accuracy is  95.2380952381 % for K-Value: 13\n",
      "Accuracy is  94.7619047619 % for K-Value: 14\n",
      "Accuracy is  95.2380952381 % for K-Value: 15\n",
      "Accuracy is  94.7619047619 % for K-Value: 16\n",
      "Accuracy is  94.7619047619 % for K-Value: 17\n",
      "Accuracy is  94.7619047619 % for K-Value: 18\n",
      "Accuracy is  94.7619047619 % for K-Value: 19\n",
      "Accuracy is  94.7619047619 % for K-Value: 20\n",
      "Accuracy is  94.7619047619 % for K-Value: 21\n",
      "Accuracy is  94.7619047619 % for K-Value: 22\n",
      "Accuracy is  94.7619047619 % for K-Value: 23\n",
      "Accuracy is  94.7619047619 % for K-Value: 24\n",
      "Accuracy is  94.7619047619 % for K-Value: 25\n"
     ]
    }
   ],
   "source": [
    "for K in range(25):\n",
    " K_value = K+1\n",
    " neigh = KNeighborsClassifier(n_neighbors = K_value, weights='uniform', algorithm='auto')\n",
    " neigh.fit(X_train, y_train) \n",
    " y_pred = neigh.predict(X_test)\n",
    " print (\"Accuracy is \", accuracy_score(y_test,y_pred)*100,\"% for K-Value:\",K_value)"
   ]
  }
 ],
 "metadata": {
  "kernelspec": {
   "display_name": "Python 3",
   "language": "python",
   "name": "python3"
  },
  "language_info": {
   "codemirror_mode": {
    "name": "ipython",
    "version": 3
   },
   "file_extension": ".py",
   "mimetype": "text/x-python",
   "name": "python",
   "nbconvert_exporter": "python",
   "pygments_lexer": "ipython3",
   "version": "3.6.3"
  }
 },
 "nbformat": 4,
 "nbformat_minor": 2
}
